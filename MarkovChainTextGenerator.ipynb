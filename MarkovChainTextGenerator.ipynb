{
 "cells": [
  {
   "cell_type": "code",
   "execution_count": 50,
   "metadata": {},
   "outputs": [],
   "source": [
    "import numpy as np\n",
    "text = \"Old there any widow law rooms. Agreed but expect repair she nay sir silent person. Direction can dependent one bed situation attempted. His she are man their spite avoid. Her pretended fulfilled extremely education yet. Satisfied did one admitting incommode tolerably how are. \""
   ]
  },
  {
   "cell_type": "code",
   "execution_count": 18,
   "metadata": {},
   "outputs": [],
   "source": [
    "def generateDictFromText(text, k=4):\n",
    "    T = {}\n",
    "    for i in range(len(text)-k):\n",
    "        Key = text[i:i+k]\n",
    "        NextChar = text[i+k]\n",
    "        if T.get(Key) is None:\n",
    "            T[Key] = {}\n",
    "            T[Key][NextChar] = 1\n",
    "        else :\n",
    "            if T[Key].get(NextChar) is None:\n",
    "                T[Key][NextChar] = 1\n",
    "            else:\n",
    "                T[Key][NextChar] = T[Key][NextChar] + 1\n",
    "    return T"
   ]
  },
  {
   "cell_type": "code",
   "execution_count": 46,
   "metadata": {},
   "outputs": [
    {
     "name": "stdout",
     "output_type": "stream",
     "text": [
      "{'Old ': {'t': 1}, 'ld t': {'h': 1}, 'd th': {'e': 1}, ' the': {'r': 1, 'i': 1}, 'ther': {'e': 1}, 'here': {' ': 1}, 'ere ': {'a': 1}, 're a': {'n': 1}, 'e an': {'y': 1}, ' any': {' ': 1}, 'any ': {'w': 1}, 'ny w': {'i': 1}, 'y wi': {'d': 1}, ' wid': {'o': 1}, 'wido': {'w': 1}, 'idow': {' ': 1}, 'dow ': {'l': 1}, 'ow l': {'a': 1}, 'w la': {'w': 1}, ' law': {' ': 1}, 'law ': {'r': 1}, 'aw r': {'o': 1}, 'w ro': {'o': 1}, ' roo': {'m': 1}, 'room': {'s': 1}, 'ooms': {'.': 1}, 'oms.': {' ': 1}, 'ms. ': {'A': 1}, 's. A': {'g': 1}, '. Ag': {'r': 1}, ' Agr': {'e': 1}, 'Agre': {'e': 1}, 'gree': {'d': 1}, 'reed': {' ': 1}, 'eed ': {'b': 1}, 'ed b': {'u': 1}, 'd bu': {'t': 1}, ' but': {' ': 1}, 'but ': {'e': 1}, 'ut e': {'x': 1}, 't ex': {'p': 1}, ' exp': {'e': 1}, 'expe': {'c': 1}, 'xpec': {'t': 1}, 'pect': {' ': 1}, 'ect ': {'r': 1}, 'ct r': {'e': 1}, 't re': {'p': 1}, ' rep': {'a': 1}, 'repa': {'i': 1}, 'epai': {'r': 1}, 'pair': {' ': 1}, 'air ': {'s': 1}, 'ir s': {'h': 1, 'i': 1, 'p': 1}, 'r sh': {'e': 1}, ' she': {' ': 2}, 'she ': {'n': 1, 'a': 1}, 'he n': {'a': 1}, 'e na': {'y': 1}, ' nay': {' ': 1}, 'nay ': {'s': 1}, 'ay s': {'i': 1}, 'y si': {'r': 1}, ' sir': {' ': 1}, 'sir ': {'s': 1}, 'r si': {'l': 1}, ' sil': {'e': 1}, 'sile': {'n': 1}, 'ilen': {'t': 1}, 'lent': {' ': 1}, 'ent ': {'p': 1, 'o': 1}, 'nt p': {'e': 1}, 't pe': {'r': 1}, ' per': {'s': 1}, 'pers': {'o': 1}, 'erso': {'n': 1}, 'rson': {'.': 1}, 'son.': {' ': 1}, 'on. ': {'D': 1}, 'n. D': {'i': 1}, '. Di': {'r': 1}, ' Dir': {'e': 1}, 'Dire': {'c': 1}, 'irec': {'t': 1}, 'rect': {'i': 1}, 'ecti': {'o': 1}, 'ctio': {'n': 1}, 'tion': {' ': 3}, 'ion ': {'c': 1, 'a': 1, 'y': 1}, 'on c': {'a': 1}, 'n ca': {'n': 1}, ' can': {' ': 1}, 'can ': {'d': 1}, 'an d': {'e': 1}, 'n de': {'p': 1}, ' dep': {'e': 1}, 'depe': {'n': 1}, 'epen': {'d': 1}, 'pend': {'e': 1}, 'ende': {'n': 1, 'd': 1}, 'nden': {'t': 1}, 'dent': {' ': 1}, 'nt o': {'n': 1}, 't on': {'e': 1}, ' one': {' ': 2}, 'one ': {'b': 1, 'a': 1}, 'ne b': {'e': 1}, 'e be': {'d': 1}, ' bed': {' ': 1}, 'bed ': {'s': 1}, 'ed s': {'i': 1}, 'd si': {'t': 1}, ' sit': {'u': 1}, 'situ': {'a': 1}, 'itua': {'t': 1}, 'tuat': {'i': 1}, 'uati': {'o': 1}, 'atio': {'n': 2}, 'on a': {'t': 1}, 'n at': {'t': 1}, ' att': {'e': 1}, 'atte': {'m': 1}, 'ttem': {'p': 1}, 'temp': {'t': 1}, 'empt': {'e': 1}, 'mpte': {'d': 1}, 'pted': {'.': 1}, 'ted.': {' ': 1}, 'ed. ': {'H': 1}, 'd. H': {'i': 1, 'e': 1}, '. Hi': {'s': 1}, ' His': {' ': 1}, 'His ': {'s': 1}, 'is s': {'h': 1}, 's sh': {'e': 1}, 'he a': {'r': 1}, 'e ar': {'e': 1}, ' are': {' ': 1, '.': 1}, 'are ': {'m': 1}, 're m': {'a': 1}, 'e ma': {'n': 1}, ' man': {' ': 1}, 'man ': {'t': 1}, 'an t': {'h': 1}, 'n th': {'e': 1}, 'thei': {'r': 1}, 'heir': {' ': 1}, 'eir ': {'s': 1}, 'r sp': {'i': 1}, ' spi': {'t': 1}, 'spit': {'e': 1}, 'pite': {' ': 1}, 'ite ': {'a': 1}, 'te a': {'v': 1}, 'e av': {'o': 1}, ' avo': {'i': 1}, 'avoi': {'d': 1}, 'void': {'.': 1}, 'oid.': {' ': 1}, 'id. ': {'H': 1}, '. He': {'r': 1}, ' Her': {' ': 1}, 'Her ': {'p': 1}, 'er p': {'r': 1}, 'r pr': {'e': 1}, ' pre': {'t': 1}, 'pret': {'e': 1}, 'rete': {'n': 1}, 'eten': {'d': 1}, 'tend': {'e': 1}, 'nded': {' ': 1}, 'ded ': {'f': 1}, 'ed f': {'u': 1}, 'd fu': {'l': 1}, ' ful': {'f': 1}, 'fulf': {'i': 1}, 'ulfi': {'l': 1}, 'lfil': {'l': 1}, 'fill': {'e': 1}, 'ille': {'d': 1}, 'lled': {' ': 1}, 'led ': {'e': 1}, 'ed e': {'x': 1}, 'd ex': {'t': 1}, ' ext': {'r': 1}, 'extr': {'e': 1}, 'xtre': {'m': 1}, 'trem': {'e': 1}, 'reme': {'l': 1}, 'emel': {'y': 1}, 'mely': {' ': 1}, 'ely ': {'e': 1}, 'ly e': {'d': 1}, 'y ed': {'u': 1}, ' edu': {'c': 1}, 'educ': {'a': 1}, 'duca': {'t': 1}, 'ucat': {'i': 1}, 'cati': {'o': 1}, 'on y': {'e': 1}, 'n ye': {'t': 1}, ' yet': {'.': 1}, 'yet.': {' ': 1}, 'et. ': {'S': 1}, 't. S': {'a': 1}, '. Sa': {'t': 1}, ' Sat': {'i': 1}, 'Sati': {'s': 1}, 'atis': {'f': 1}, 'tisf': {'i': 1}, 'isfi': {'e': 1}, 'sfie': {'d': 1}, 'fied': {' ': 1}, 'ied ': {'d': 1}, 'ed d': {'i': 1}, 'd di': {'d': 1}, ' did': {' ': 1}, 'did ': {'o': 1}, 'id o': {'n': 1}, 'd on': {'e': 1}, 'ne a': {'d': 1}, 'e ad': {'m': 1}, ' adm': {'i': 1}, 'admi': {'t': 1}, 'dmit': {'t': 1}, 'mitt': {'i': 1}, 'itti': {'n': 1}, 'ttin': {'g': 1}, 'ting': {' ': 1}, 'ing ': {'i': 1}, 'ng i': {'n': 1}, 'g in': {'c': 1}, ' inc': {'o': 1}, 'inco': {'m': 1}, 'ncom': {'m': 1}, 'comm': {'o': 1}, 'ommo': {'d': 1}, 'mmod': {'e': 1}, 'mode': {' ': 1}, 'ode ': {'t': 1}, 'de t': {'o': 1}, 'e to': {'l': 1}, ' tol': {'e': 1}, 'tole': {'r': 1}, 'oler': {'a': 1}, 'lera': {'b': 1}, 'erab': {'l': 1}, 'rabl': {'y': 1}, 'ably': {' ': 1}, 'bly ': {'h': 1}, 'ly h': {'o': 1}, 'y ho': {'w': 1}, ' how': {' ': 1}, 'how ': {'a': 1}, 'ow a': {'r': 1}, 'w ar': {'e': 1}, 'are.': {' ': 1}}\n"
     ]
    }
   ],
   "source": [
    "T = generateDictFromText(text)\n",
    "print(T)"
   ]
  },
  {
   "cell_type": "code",
   "execution_count": 48,
   "metadata": {},
   "outputs": [],
   "source": [
    "def FreqToProbinDict(T):\n",
    "    for key, values in T.items():\n",
    "        sum = 0\n",
    "        for K, val in values.items():\n",
    "            sum += val\n",
    "        for K in values:\n",
    "            T[key][K] = T[key][K]/sum\n",
    "    return T"
   ]
  },
  {
   "cell_type": "code",
   "execution_count": 49,
   "metadata": {},
   "outputs": [
    {
     "name": "stdout",
     "output_type": "stream",
     "text": [
      "{'Old ': {'t': 1.0}, 'ld t': {'h': 1.0}, 'd th': {'e': 1.0}, ' the': {'r': 0.5, 'i': 0.5}, 'ther': {'e': 1.0}, 'here': {' ': 1.0}, 'ere ': {'a': 1.0}, 're a': {'n': 1.0}, 'e an': {'y': 1.0}, ' any': {' ': 1.0}, 'any ': {'w': 1.0}, 'ny w': {'i': 1.0}, 'y wi': {'d': 1.0}, ' wid': {'o': 1.0}, 'wido': {'w': 1.0}, 'idow': {' ': 1.0}, 'dow ': {'l': 1.0}, 'ow l': {'a': 1.0}, 'w la': {'w': 1.0}, ' law': {' ': 1.0}, 'law ': {'r': 1.0}, 'aw r': {'o': 1.0}, 'w ro': {'o': 1.0}, ' roo': {'m': 1.0}, 'room': {'s': 1.0}, 'ooms': {'.': 1.0}, 'oms.': {' ': 1.0}, 'ms. ': {'A': 1.0}, 's. A': {'g': 1.0}, '. Ag': {'r': 1.0}, ' Agr': {'e': 1.0}, 'Agre': {'e': 1.0}, 'gree': {'d': 1.0}, 'reed': {' ': 1.0}, 'eed ': {'b': 1.0}, 'ed b': {'u': 1.0}, 'd bu': {'t': 1.0}, ' but': {' ': 1.0}, 'but ': {'e': 1.0}, 'ut e': {'x': 1.0}, 't ex': {'p': 1.0}, ' exp': {'e': 1.0}, 'expe': {'c': 1.0}, 'xpec': {'t': 1.0}, 'pect': {' ': 1.0}, 'ect ': {'r': 1.0}, 'ct r': {'e': 1.0}, 't re': {'p': 1.0}, ' rep': {'a': 1.0}, 'repa': {'i': 1.0}, 'epai': {'r': 1.0}, 'pair': {' ': 1.0}, 'air ': {'s': 1.0}, 'ir s': {'h': 0.3333333333333333, 'i': 0.3333333333333333, 'p': 0.3333333333333333}, 'r sh': {'e': 1.0}, ' she': {' ': 1.0}, 'she ': {'n': 0.5, 'a': 0.5}, 'he n': {'a': 1.0}, 'e na': {'y': 1.0}, ' nay': {' ': 1.0}, 'nay ': {'s': 1.0}, 'ay s': {'i': 1.0}, 'y si': {'r': 1.0}, ' sir': {' ': 1.0}, 'sir ': {'s': 1.0}, 'r si': {'l': 1.0}, ' sil': {'e': 1.0}, 'sile': {'n': 1.0}, 'ilen': {'t': 1.0}, 'lent': {' ': 1.0}, 'ent ': {'p': 0.5, 'o': 0.5}, 'nt p': {'e': 1.0}, 't pe': {'r': 1.0}, ' per': {'s': 1.0}, 'pers': {'o': 1.0}, 'erso': {'n': 1.0}, 'rson': {'.': 1.0}, 'son.': {' ': 1.0}, 'on. ': {'D': 1.0}, 'n. D': {'i': 1.0}, '. Di': {'r': 1.0}, ' Dir': {'e': 1.0}, 'Dire': {'c': 1.0}, 'irec': {'t': 1.0}, 'rect': {'i': 1.0}, 'ecti': {'o': 1.0}, 'ctio': {'n': 1.0}, 'tion': {' ': 1.0}, 'ion ': {'c': 0.3333333333333333, 'a': 0.3333333333333333, 'y': 0.3333333333333333}, 'on c': {'a': 1.0}, 'n ca': {'n': 1.0}, ' can': {' ': 1.0}, 'can ': {'d': 1.0}, 'an d': {'e': 1.0}, 'n de': {'p': 1.0}, ' dep': {'e': 1.0}, 'depe': {'n': 1.0}, 'epen': {'d': 1.0}, 'pend': {'e': 1.0}, 'ende': {'n': 0.5, 'd': 0.5}, 'nden': {'t': 1.0}, 'dent': {' ': 1.0}, 'nt o': {'n': 1.0}, 't on': {'e': 1.0}, ' one': {' ': 1.0}, 'one ': {'b': 0.5, 'a': 0.5}, 'ne b': {'e': 1.0}, 'e be': {'d': 1.0}, ' bed': {' ': 1.0}, 'bed ': {'s': 1.0}, 'ed s': {'i': 1.0}, 'd si': {'t': 1.0}, ' sit': {'u': 1.0}, 'situ': {'a': 1.0}, 'itua': {'t': 1.0}, 'tuat': {'i': 1.0}, 'uati': {'o': 1.0}, 'atio': {'n': 1.0}, 'on a': {'t': 1.0}, 'n at': {'t': 1.0}, ' att': {'e': 1.0}, 'atte': {'m': 1.0}, 'ttem': {'p': 1.0}, 'temp': {'t': 1.0}, 'empt': {'e': 1.0}, 'mpte': {'d': 1.0}, 'pted': {'.': 1.0}, 'ted.': {' ': 1.0}, 'ed. ': {'H': 1.0}, 'd. H': {'i': 0.5, 'e': 0.5}, '. Hi': {'s': 1.0}, ' His': {' ': 1.0}, 'His ': {'s': 1.0}, 'is s': {'h': 1.0}, 's sh': {'e': 1.0}, 'he a': {'r': 1.0}, 'e ar': {'e': 1.0}, ' are': {' ': 0.5, '.': 0.5}, 'are ': {'m': 1.0}, 're m': {'a': 1.0}, 'e ma': {'n': 1.0}, ' man': {' ': 1.0}, 'man ': {'t': 1.0}, 'an t': {'h': 1.0}, 'n th': {'e': 1.0}, 'thei': {'r': 1.0}, 'heir': {' ': 1.0}, 'eir ': {'s': 1.0}, 'r sp': {'i': 1.0}, ' spi': {'t': 1.0}, 'spit': {'e': 1.0}, 'pite': {' ': 1.0}, 'ite ': {'a': 1.0}, 'te a': {'v': 1.0}, 'e av': {'o': 1.0}, ' avo': {'i': 1.0}, 'avoi': {'d': 1.0}, 'void': {'.': 1.0}, 'oid.': {' ': 1.0}, 'id. ': {'H': 1.0}, '. He': {'r': 1.0}, ' Her': {' ': 1.0}, 'Her ': {'p': 1.0}, 'er p': {'r': 1.0}, 'r pr': {'e': 1.0}, ' pre': {'t': 1.0}, 'pret': {'e': 1.0}, 'rete': {'n': 1.0}, 'eten': {'d': 1.0}, 'tend': {'e': 1.0}, 'nded': {' ': 1.0}, 'ded ': {'f': 1.0}, 'ed f': {'u': 1.0}, 'd fu': {'l': 1.0}, ' ful': {'f': 1.0}, 'fulf': {'i': 1.0}, 'ulfi': {'l': 1.0}, 'lfil': {'l': 1.0}, 'fill': {'e': 1.0}, 'ille': {'d': 1.0}, 'lled': {' ': 1.0}, 'led ': {'e': 1.0}, 'ed e': {'x': 1.0}, 'd ex': {'t': 1.0}, ' ext': {'r': 1.0}, 'extr': {'e': 1.0}, 'xtre': {'m': 1.0}, 'trem': {'e': 1.0}, 'reme': {'l': 1.0}, 'emel': {'y': 1.0}, 'mely': {' ': 1.0}, 'ely ': {'e': 1.0}, 'ly e': {'d': 1.0}, 'y ed': {'u': 1.0}, ' edu': {'c': 1.0}, 'educ': {'a': 1.0}, 'duca': {'t': 1.0}, 'ucat': {'i': 1.0}, 'cati': {'o': 1.0}, 'on y': {'e': 1.0}, 'n ye': {'t': 1.0}, ' yet': {'.': 1.0}, 'yet.': {' ': 1.0}, 'et. ': {'S': 1.0}, 't. S': {'a': 1.0}, '. Sa': {'t': 1.0}, ' Sat': {'i': 1.0}, 'Sati': {'s': 1.0}, 'atis': {'f': 1.0}, 'tisf': {'i': 1.0}, 'isfi': {'e': 1.0}, 'sfie': {'d': 1.0}, 'fied': {' ': 1.0}, 'ied ': {'d': 1.0}, 'ed d': {'i': 1.0}, 'd di': {'d': 1.0}, ' did': {' ': 1.0}, 'did ': {'o': 1.0}, 'id o': {'n': 1.0}, 'd on': {'e': 1.0}, 'ne a': {'d': 1.0}, 'e ad': {'m': 1.0}, ' adm': {'i': 1.0}, 'admi': {'t': 1.0}, 'dmit': {'t': 1.0}, 'mitt': {'i': 1.0}, 'itti': {'n': 1.0}, 'ttin': {'g': 1.0}, 'ting': {' ': 1.0}, 'ing ': {'i': 1.0}, 'ng i': {'n': 1.0}, 'g in': {'c': 1.0}, ' inc': {'o': 1.0}, 'inco': {'m': 1.0}, 'ncom': {'m': 1.0}, 'comm': {'o': 1.0}, 'ommo': {'d': 1.0}, 'mmod': {'e': 1.0}, 'mode': {' ': 1.0}, 'ode ': {'t': 1.0}, 'de t': {'o': 1.0}, 'e to': {'l': 1.0}, ' tol': {'e': 1.0}, 'tole': {'r': 1.0}, 'oler': {'a': 1.0}, 'lera': {'b': 1.0}, 'erab': {'l': 1.0}, 'rabl': {'y': 1.0}, 'ably': {' ': 1.0}, 'bly ': {'h': 1.0}, 'ly h': {'o': 1.0}, 'y ho': {'w': 1.0}, ' how': {' ': 1.0}, 'how ': {'a': 1.0}, 'ow a': {'r': 1.0}, 'w ar': {'e': 1.0}, 'are.': {' ': 1.0}}\n"
     ]
    }
   ],
   "source": [
    "T = FreqToProbinDict(T)\n",
    "print(T)"
   ]
  },
  {
   "cell_type": "code",
   "execution_count": 67,
   "metadata": {},
   "outputs": [
    {
     "name": "stdout",
     "output_type": "stream",
     "text": [
      "apple\n",
      "mango\n",
      "banana\n",
      "mango\n",
      "banana\n",
      "banana\n",
      "banana\n",
      "mango\n",
      "mango\n",
      "mango\n"
     ]
    }
   ],
   "source": [
    "Fruits = {'mango': 0.5, 'apple': 0.1, 'banana': 0.4}\n",
    "for i in range(10):\n",
    "    a = list(Fruits.keys())\n",
    "    prob = list(Fruits.values())\n",
    "    print(np.random.choice(a,p=prob))"
   ]
  },
  {
   "cell_type": "code",
   "execution_count": null,
   "metadata": {},
   "outputs": [],
   "source": []
  },
  {
   "cell_type": "code",
   "execution_count": null,
   "metadata": {},
   "outputs": [],
   "source": []
  },
  {
   "cell_type": "code",
   "execution_count": null,
   "metadata": {},
   "outputs": [],
   "source": []
  },
  {
   "cell_type": "code",
   "execution_count": null,
   "metadata": {},
   "outputs": [],
   "source": []
  },
  {
   "cell_type": "code",
   "execution_count": 69,
   "metadata": {},
   "outputs": [],
   "source": [
    "def sampleNext(sent,T,k=4):\n",
    "    LastWord = sent[-k:]\n",
    "    NextWords = []\n",
    "    prob = []\n",
    "    if T.get(LastWord) is None:\n",
    "        NextWords.append(\" \")\n",
    "        prob.append(1)\n",
    "    else:\n",
    "        NextWords = list(T[LastWord].keys())\n",
    "        prob = list(T[LastWord].values())\n",
    "    return sent + np.random.choice(NextWords,p=prob)"
   ]
  },
  {
   "cell_type": "code",
   "execution_count": 85,
   "metadata": {},
   "outputs": [],
   "source": [
    "def randomTextGenerator(starting_sent,T,k=4,maxLen=2000):\n",
    "    randText = starting_sent\n",
    "    while len(randText) < maxLen:\n",
    "        randText = sampleNext(randText,T,k)\n",
    "    return randText"
   ]
  },
  {
   "cell_type": "code",
   "execution_count": 71,
   "metadata": {},
   "outputs": [],
   "source": [
    "f = open('randomText.txt','r')\n",
    "newText = f.read()\n",
    "T = generateDictFromText(newText,k=4)"
   ]
  },
  {
   "cell_type": "code",
   "execution_count": 73,
   "metadata": {},
   "outputs": [],
   "source": [
    "T = FreqToProbinDict(T)"
   ]
  },
  {
   "cell_type": "code",
   "execution_count": 82,
   "metadata": {},
   "outputs": [
    {
     "name": "stdout",
     "output_type": "stream",
     "text": [
      "{'n of': {' ': 1.0}, ' of ': {'t': 0.42105263157894735, 'a': 0.10526315789473684, 'm': 0.21052631578947367, 'f': 0.05263157894736842, 'o': 0.05263157894736842, 'Y': 0.15789473684210525}, 'of t': {'h': 1.0}, 'f th': {'e': 0.5, 'i': 0.5}, ' the': {' ': 1.0}, 'the ': {'l': 0.14285714285714285, 'w': 0.35714285714285715, 'c': 0.2857142857142857, 's': 0.21428571428571427}, 'he l': {'a': 1.0}, 'e la': {'s': 1.0}, ' las': {'c': 1.0}, 'lasc': {'i': 1.0}, 'asci': {'v': 1.0}, 'sciv': {'i': 1.0}, 'civi': {'o': 1.0}, 'ivio': {'u': 1.0}, 'viou': {'s': 1.0}, 'ious': {' ': 1.0}, 'ous ': {'p': 0.4, 'w': 0.4, 's': 0.2}, 'us p': {'l': 1.0}, 's pl': {'e': 1.0}, ' ple': {'a': 1.0}, 'plea': {'s': 1.0}, 'leas': {'i': 1.0}, 'easi': {'n': 1.0}, 'asin': {'g': 1.0}, 'sing': {' ': 1.0}, 'ing ': {'b': 0.3333333333333333, 'n': 0.2222222222222222, 'o': 0.4444444444444444}, 'ng b': {'a': 1.0}, 'g ba': {'r': 1.0}, ' bar': {'d': 1.0}, 'bard': {'e': 1.0}, 'arde': {'d': 1.0}, 'rded': {' ': 1.0}, 'ded ': {'s': 1.0}, 'ed s': {'t': 1.0}, 'd st': {'e': 1.0}, ' ste': {'r': 0.4, 'e': 0.6}, 'ster': {'n': 1.0}, 'tern': {' ': 1.0}, 'ern ': {'a': 1.0}, 'rn a': {'l': 1.0}, 'n al': {'a': 1.0}, ' ala': {'r': 1.0}, 'alar': {'u': 1.0}, 'laru': {'m': 1.0}, 'arum': {'s': 1.0}, 'rums': {' ': 1.0}, 'ums ': {'c': 1.0}, 'ms c': {'h': 1.0}, 's ch': {'a': 1.0}, ' cha': {'m': 0.5, 'n': 0.5}, 'cham': {'b': 1.0}, 'hamb': {'e': 1.0}, 'ambe': {'r': 1.0}, 'mber': {'\\n': 1.0}, 'ber\\n': {'T': 1.0}, 'er\\nT': {'o': 1.0}, 'r\\nTo': {' ': 1.0}, '\\nTo ': {'f': 0.6666666666666666, 't': 0.2222222222222222, 's': 0.1111111111111111}, 'To f': {'r': 1.0}, 'o fr': {'i': 1.0}, ' fri': {'g': 1.0}, 'frig': {'h': 1.0}, 'righ': {'t': 1.0}, 'ight': {'f': 0.875, ' ': 0.125}, 'ghtf': {'u': 1.0}, 'htfu': {'l': 1.0}, 'tful': {' ': 1.0}, 'ful ': {'m': 0.6, 'a': 0.4}, 'ul m': {'a': 0.5, 'e': 0.5}, 'l ma': {'r': 1.0}, ' mar': {'c': 1.0}, 'marc': {'h': 1.0}, 'arch': {'e': 1.0}, 'rche': {'s': 1.0}, 'ches': {' ': 1.0}, 'hes ': {'t': 1.0}, 'es t': {'o': 1.0}, 's to': {' ': 1.0}, ' to ': {'m': 0.6666666666666666, 'c': 0.1111111111111111, 'd': 0.2222222222222222}, 'to m': {'e': 1.0}, 'o me': {'r': 1.0}, ' mer': {'r': 1.0}, 'merr': {'y': 1.0}, 'erry': {' ': 1.0}, 'rry ': {'m': 1.0}, 'ry m': {'e': 1.0}, 'y me': {'e': 1.0}, ' mee': {'t': 1.0}, 'meet': {'i': 1.0}, 'eeti': {'n': 1.0}, 'etin': {'g': 1.0}, 'ting': {'s': 0.5, ' ': 0.5}, 'ings': {',': 1.0}, 'ngs,': {'\\n': 1.0}, 'gs,\\n': {'N': 0.4, 'H': 0.6}, 's,\\nN': {'o': 1.0}, ',\\nNo': {'w': 0.8, 'r': 0.2}, '\\nNow': {' ': 1.0}, 'Now ': {'a': 0.5, 'i': 0.5}, 'ow a': {'r': 1.0}, 'w ar': {'e': 1.0}, ' are': {' ': 1.0}, 'are ': {'o': 1.0}, 're o': {'u': 1.0}, 'e ou': {'r': 1.0}, ' our': {' ': 1.0}, 'our ': {'d': 0.4, 'h': 0.2, 'b': 0.4}, 'ur d': {'r': 0.6666666666666666, 'i': 0.3333333333333333}, 'r dr': {'e': 1.0}, ' dre': {'a': 1.0}, 'drea': {'d': 1.0}, 'read': {'f': 1.0}, 'eadf': {'u': 1.0}, 'adfu': {'l': 1.0}, 'dful': {' ': 1.0}, 'ul a': {'d': 1.0}, 'l ad': {'v': 1.0}, ' adv': {'e': 1.0}, 'adve': {'r': 1.0}, 'dver': {'s': 1.0}, 'vers': {'a': 1.0}, 'ersa': {'r': 1.0}, 'rsar': {'i': 1.0}, 'sari': {'e': 1.0}, 'arie': {'s': 1.0}, 'ries': {',': 1.0}, 'ies,': {'\\n': 1.0}, 'es,\\n': {'N': 0.5, 'O': 0.25, 'H': 0.25}, 'ow i': {'s': 1.0}, 'w is': {' ': 1.0}, ' is ': {'t': 1.0}, 'is t': {'h': 1.0}, 's th': {'e': 0.5, 'a': 0.5}, 'he w': {'i': 1.0}, 'e wi': {'n': 1.0}, ' win': {'t': 1.0}, 'wint': {'e': 1.0}, 'inte': {'r': 1.0}, 'nter': {' ': 1.0}, 'ter ': {'o': 1.0}, 'er o': {'f': 1.0}, 'r of': {' ': 1.0}, ' thi': {'s': 1.0}, 'this': {' ': 1.0}, 'his ': {'w': 0.2857142857142857, 'f': 0.5714285714285714, 's': 0.14285714285714285}, 'is w': {'r': 1.0}, 's wr': {'i': 1.0}, ' wri': {'n': 1.0}, 'wrin': {'k': 1.0}, 'rink': {'l': 1.0}, 'inkl': {'e': 1.0}, 'nkle': {'d': 1.0}, 'kled': {' ': 1.0}, 'led ': {'f': 1.0}, 'ed f': {'r': 0.4, 'o': 0.6}, 'd fr': {'o': 1.0}, ' fro': {'n': 1.0}, 'fron': {'t': 1.0}, 'ront': {';': 1.0}, 'ont;': {'\\n': 1.0}, 'nt;\\n': {'A': 1.0}, 't;\\nA': {'n': 1.0}, ';\\nAn': {'d': 1.0}, '\\nAnd': {' ': 1.0}, 'And ': {'a': 0.6, 'n': 0.4}, 'nd a': {'l': 1.0}, 'd al': {'l': 1.0}, ' all': {' ': 1.0}, 'all ': {'t': 1.0}, 'll t': {'h': 1.0}, 'l th': {'e': 1.0}, 'he c': {'l': 1.0}, 'e cl': {'o': 1.0}, ' clo': {'u': 1.0}, 'clou': {'d': 1.0}, 'loud': {'s': 1.0}, 'ouds': {' ': 1.0}, 'uds ': {'t': 1.0}, 'ds t': {'h': 1.0}, 'of a': {' ': 1.0}, 'f a ': {'l': 1.0}, ' a l': {'u': 0.7777777777777778, 'a': 0.2222222222222222}, 'a lu': {'t': 1.0}, ' lut': {'e': 1.0}, 'lute': {'.': 1.0}, 'ute.': {'\\n': 1.0}, 'te.\\n': {'B': 1.0}, 'e.\\nB': {'u': 1.0}, '.\\nBu': {'t': 1.0}, '\\nBut': {' ': 1.0}, 'But ': {'I': 1.0}, 'ut I': {',': 1.0}, 't I,': {' ': 1.0}, ' I, ': {'t': 1.0}, 'I, t': {'h': 1.0}, ', th': {'a': 1.0}, ' tha': {'t': 1.0}, 'that': {' ': 1.0}, 'hat ': {'l': 0.18181818181818182, 'a': 0.8181818181818182}, 'at l': {'o': 1.0}, 't lo': {'v': 0.6666666666666666, 'u': 0.3333333333333333}, ' lov': {'e': 1.0}, 'love': {\"'\": 1.0}, \"ove'\": {'s': 1.0}, \"ve's\": {' ': 1.0}, \"e's \": {'m': 1.0}, \"'s m\": {'a': 1.0}, 's ma': {'j': 1.0}, ' maj': {'e': 1.0}, 'maje': {'s': 1.0}, 'ajes': {'t': 1.0}, 'jest': {'y': 1.0}, 'esty': {'\\n': 1.0}, 'sty\\n': {'T': 1.0}, 'ty\\nT': {'o': 1.0}, 'y\\nTo': {' ': 1.0}, 'To t': {'h': 1.0}, 'o th': {'e': 1.0}, 'he s': {'o': 1.0}, 'e so': {'u': 1.0}, ' sou': {'l': 1.0}, 'soul': {'s': 1.0}, 'ouls': {' ': 1.0}, 'uls ': {'o': 1.0}, 'ls o': {'f': 1.0}, 's of': {' ': 1.0}, 'is f': {'a': 1.0}, 's fa': {'i': 1.0}, ' fai': {'r': 1.0}, 'fair': {' ': 1.0}, 'air ': {'p': 1.0}, 'ir p': {'r': 1.0}, 'r pr': {'o': 1.0}, ' pro': {'p': 1.0}, 'prop': {'o': 1.0}, 'ropo': {'r': 1.0}, 'opor': {'t': 1.0}, 'port': {'i': 1.0}, 'orti': {'v': 1.0}, 'rtiv': {'e': 1.0}, 'tive': {' ': 1.0}, 'ive ': {'t': 1.0}, 've t': {'r': 1.0}, 'e tr': {'i': 1.0}, ' tri': {'c': 1.0}, 'tric': {'k': 1.0}, 'rick': {'s': 1.0}, 'icks': {',': 1.0}, 'cks,': {'\\n': 1.0}, 'ks,\\n': {'N': 0.16666666666666666, 'H': 0.5, 'O': 0.3333333333333333}, '\\nNor': {' ': 1.0}, 'Nor ': {'m': 1.0}, 'or m': {'o': 0.3333333333333333, 'a': 0.6666666666666666}, 'r mo': {'n': 1.0}, ' mon': {'u': 1.0}, 'monu': {'m': 1.0}, 'onum': {'e': 1.0}, 'nume': {'n': 1.0}, 'umen': {'t': 1.0}, 'ment': {'s': 1.0}, 'ents': {';': 1.0}, 'nts;': {'\\n': 1.0}, 'ts;\\n': {'O': 1.0}, 's;\\nO': {'u': 1.0}, ';\\nOu': {'r': 1.0}, '\\nOur': {' ': 1.0}, 'Our ': {'s': 0.5, 'd': 0.25, 'b': 0.25}, 'ur s': {'t': 1.0}, 'r st': {'e': 1.0}, 'chan': {'g': 1.0}, 'hang': {'e': 1.0}, 'ange': {'d': 1.0}, 'nged': {' ': 1.0}, 'ged ': {'t': 0.8, 'w': 0.2}, 'ed t': {'o': 1.0}, 'd to': {' ': 1.0}, 's,\\nH': {'e': 1.0}, ',\\nHe': {' ': 1.0}, '\\nHe ': {'c': 1.0}, 'He c': {'a': 1.0}, 'e ca': {'p': 1.0}, ' cap': {'e': 1.0}, 'cape': {'r': 1.0}, 'aper': {'s': 1.0}, 'pers': {' ': 1.0}, 'ers ': {'n': 1.0}, 'rs n': {'i': 1.0}, 's ni': {'m': 1.0}, ' nim': {'b': 1.0}, 'nimb': {'l': 1.0}, 'imbl': {'y': 1.0}, 'mbly': {' ': 1.0}, 'bly ': {'i': 1.0}, 'ly i': {'n': 1.0}, 'y in': {' ': 1.0}, ' in ': {'a': 1.0}, 'in a': {' ': 1.0}, 'n a ': {'l': 1.0}, 'a la': {'d': 1.0}, ' lad': {'y': 1.0}, 'lady': {\"'\": 1.0}, \"ady'\": {'s': 1.0}, \"dy's\": {' ': 1.0}, \"y's \": {'c': 1.0}, \"'s c\": {'h': 1.0}, 'at a': {'m': 1.0}, 't am': {' ': 1.0}, ' am ': {'n': 0.1111111111111111, 'r': 0.4444444444444444, 'c': 0.4444444444444444}, 'am n': {'o': 1.0}, 'm no': {'t': 1.0}, ' not': {' ': 1.0}, 'not ': {'s': 1.0}, 'ot s': {'h': 1.0}, 't sh': {'a': 1.0}, ' sha': {'p': 1.0}, 'shap': {'e': 1.0}, 'hape': {'d': 1.0}, 'aped': {' ': 1.0}, 'ped ': {'f': 1.0}, 'd fo': {'r': 1.0}, ' for': {' ': 1.0}, 'for ': {'m': 0.5, 's': 0.5}, 'r ma': {'d': 1.0}, ' mad': {'e': 1.0}, 'made': {' ': 1.0}, 'ade ': {'g': 0.3333333333333333, 't': 0.6666666666666666}, 'de g': {'l': 1.0}, 'e gl': {'o': 1.0}, ' glo': {'r': 1.0}, 'glor': {'i': 1.0}, 'lori': {'o': 1.0}, 'orio': {'u': 1.0}, 'riou': {'s': 1.0}, 'us w': {'r': 1.0}, 'or s': {'p': 1.0}, 'r sp': {'o': 1.0}, ' spo': {'r': 1.0}, 'spor': {'t': 1.0}, 'am r': {'u': 1.0}, 'm ru': {'d': 1.0}, ' rud': {'e': 1.0}, 'rude': {'l': 1.0}, 'udel': {'y': 1.0}, 'dely': {' ': 1.0}, 'ely ': {'s': 1.0}, 'ly s': {'t': 1.0}, 'y st': {'a': 1.0}, ' sta': {'m': 1.0}, 'stam': {'p': 1.0}, 'tamp': {\"'\": 1.0}, \"amp'\": {'d': 1.0}, \"mp'd\": {',': 1.0}, \"p'd,\": {' ': 1.0}, \"'d, \": {'a': 1.0}, 'd, a': {'n': 1.0}, ', an': {'d': 1.0}, ' and': {' ': 1.0}, 'and ': {'w': 1.0}, 'nd w': {'i': 0.3333333333333333, 'a': 0.6666666666666666}, 'd wi': {'t': 1.0}, ' wit': {'h': 1.0}, 'with': {' ': 1.0}, 'ith ': {'v': 1.0}, 'th v': {'i': 1.0}, 'h vi': {'c': 1.0}, ' vic': {'t': 1.0}, 'vict': {'o': 1.0}, 'icto': {'r': 1.0}, 'ctor': {'i': 1.0}, 'tori': {'o': 1.0}, 'ng n': {'y': 1.0}, 'g ny': {'m': 1.0}, ' nym': {'p': 1.0}, 'nymp': {'h': 1.0}, 'ymph': {';': 1.0}, 'mph;': {'\\n': 1.0}, 'ph;\\n': {'I': 1.0}, 'h;\\nI': {',': 1.0}, ';\\nI,': {' ': 1.0}, '\\nI, ': {'t': 1.0}, 'am c': {'u': 1.0}, 'm cu': {'r': 1.0}, ' cur': {'t': 1.0}, 'curt': {'a': 1.0}, 'urta': {'i': 1.0}, 'rtai': {'l': 1.0}, 'tail': {\"'\": 1.0}, \"ail'\": {'d': 1.0}, \"il'd\": {' ': 1.0}, \"l'd \": {'o': 1.0}, \"'d o\": {'f': 1.0}, 'd of': {' ': 1.0}, 'of m': {'o': 1.0}, 'f mo': {'u': 1.0}, ' mou': {'n': 1.0}, 'moun': {'t': 1.0}, 'ount': {'i': 1.0}, 'unti': {'n': 1.0}, 'ntin': {'g': 1.0}, 'ng o': {'f': 1.0}, 'g of': {' ': 1.0}, 'of f': {'e': 1.0}, 'f fe': {'a': 1.0}, ' fea': {'r': 1.0}, 'fear': {'f': 1.0}, 'earf': {'u': 1.0}, 'arfu': {'l': 1.0}, 'rful': {' ': 1.0}, 's,\\nO': {'u': 1.0}, ',\\nOu': {'r': 1.0}, 'stee': {'d': 1.0}, 'teed': {'s': 1.0}, 'eeds': {'\\n': 1.0}, 'eds\\n': {'T': 1.0}, 'ds\\nT': {'o': 1.0}, 's\\nTo': {' ': 1.0}, 'To s': {'t': 1.0}, 'o st': {'r': 1.0}, ' str': {'u': 1.0}, 'stru': {'t': 1.0}, 'trut': {' ': 1.0}, 'rut ': {'b': 1.0}, 'ut b': {'e': 1.0}, 't be': {'f': 1.0}, ' bef': {'o': 1.0}, 'befo': {'r': 1.0}, 'efor': {'e': 1.0}, 'fore': {' ': 1.0}, 'ore ': {'a': 1.0}, 're a': {' ': 1.0}, 'e a ': {'w': 1.0}, ' a w': {'a': 1.0}, 'a wa': {'n': 1.0}, ' wan': {'t': 1.0}, 'want': {' ': 0.8, 'o': 0.2}, 'ant ': {'l': 1.0}, 'nt l': {'o': 1.0}, 'l me': {'a': 1.0}, ' mea': {'s': 1.0}, 'meas': {'u': 1.0}, 'easu': {'r': 1.0}, 'asur': {'e': 1.0}, 'sure': {'s': 1.0}, 'ures': {'.': 1.0}, 'res.': {'\\n': 1.0}, 'es.\\n': {'G': 1.0}, 's.\\nG': {'r': 1.0}, '.\\nGr': {'i': 1.0}, '\\nGri': {'m': 1.0}, 'Grim': {'-': 1.0}, 'rim-': {'v': 1.0}, 'im-v': {'i': 1.0}, 'm-vi': {'s': 1.0}, '-vis': {'a': 1.0}, 'visa': {'g': 1.0}, 'isag': {'e': 1.0}, 'sage': {'d': 1.0}, 'aged': {' ': 1.0}, 'to c': {'o': 1.0}, 'o co': {'u': 1.0}, ' cou': {'r': 1.0}, 'cour': {'t': 1.0}, 'ourt': {' ': 1.0}, 'urt ': {'a': 1.0}, 'rt a': {'n': 1.0}, 't an': {' ': 1.0}, ' an ': {'a': 1.0}, 'an a': {'m': 1.0}, 'n am': {'b': 1.0}, ' amb': {'l': 1.0}, 'ambl': {'i': 1.0}, 'mbli': {'n': 1.0}, 'blin': {'g': 1.0}, 'ling': {' ': 1.0}, 'of o': {'u': 1.0}, 'f ou': {'r': 1.0}, 'ur h': {'o': 1.0}, 'r ho': {'u': 1.0}, ' hou': {'s': 1.0}, 'hous': {'e': 1.0}, 'ouse': {'\\n': 1.0}, 'use\\n': {'I': 1.0}, 'se\\nI': {'n': 1.0}, 'e\\nIn': {' ': 1.0}, '\\nIn ': {'t': 1.0}, 'In t': {'h': 1.0}, 'n th': {'e': 1.0}, 'of Y': {'o': 1.0}, 'f Yo': {'r': 1.0}, ' Yor': {'k': 1.0}, 'York': {';': 1.0}, 'ork;': {'\\n': 1.0}, 'rk;\\n': {'A': 1.0}, 'k;\\nA': {'n': 1.0}, 'nd n': {'o': 1.0}, 'd no': {'w': 1.0}, ' now': {',': 1.0}, 'now,': {' ': 1.0}, 'ow, ': {'i': 1.0}, 'w, i': {'n': 1.0}, ', in': {'s': 1.0}, ' ins': {'t': 1.0}, 'inst': {'e': 1.0}, 'nste': {'a': 1.0}, 'stea': {'d': 1.0}, 'tead': {' ': 1.0}, 'ead ': {'o': 1.0}, 'ad o': {'f': 1.0}, 'to d': {'e': 1.0}, 'o de': {'l': 1.0}, ' del': {'i': 1.0}, 'deli': {'g': 1.0}, 'elig': {'h': 1.0}, 'ligh': {'t': 1.0}, 'd wa': {'n': 0.8, 'r': 0.2}, ' lou': {'r': 1.0}, 'lour': {\"'\": 1.0}, \"our'\": {'d': 1.0}, \"ur'd\": {' ': 1.0}, \"r'd \": {'u': 1.0}, \"'d u\": {'p': 1.0}, 'd up': {'o': 1.0}, ' upo': {'n': 1.0}, 'upon': {' ': 1.0}, 'pon ': {'o': 1.0}, 'on o': {'u': 1.0}, 'n ou': {'r': 1.0}, 'ur b': {'r': 1.0}, 'r br': {'o': 0.6666666666666666, 'u': 0.3333333333333333}, ' bro': {'w': 1.0}, 'brow': {'s': 1.0}, 'rows': {' ': 1.0}, 'ows ': {'b': 1.0}, 'ws b': {'o': 1.0}, 's bo': {'u': 1.0}, ' bou': {'n': 1.0}, 'boun': {'d': 1.0}, 'ound': {' ': 1.0}, 'und ': {'w': 1.0}, 'ed w': {'a': 1.0}, ' bru': {'i': 1.0}, 'brui': {'s': 1.0}, 'ruis': {'e': 1.0}, 'uise': {'d': 1.0}, 'ised': {' ': 1.0}, 'sed ': {'a': 1.0}, 'ed a': {'r': 1.0}, 'd ar': {'m': 1.0}, ' arm': {'s': 1.0}, 'arms': {' ': 1.0}, 'rms ': {'h': 1.0}, 'ms h': {'u': 1.0}, 's hu': {'n': 1.0}, ' hun': {'g': 1.0}, 'hung': {' ': 1.0}, 'ung ': {'u': 1.0}, 'ng u': {'p': 1.0}, 'g up': {' ': 1.0}, ' up ': {'f': 1.0}, 'up f': {'o': 1.0}, 'p fo': {'r': 1.0}, 'r di': {'s': 1.0}, ' dis': {'c': 1.0}, 'disc': {'o': 1.0}, 'isco': {'n': 1.0}, 'scon': {'t': 1.0}, 'cont': {'e': 1.0}, 'onte': {'n': 1.0}, 'nten': {'t': 1.0}, 'tent': {'\\n': 1.0}, 'ent\\n': {'M': 1.0}, 'nt\\nM': {'a': 1.0}, 't\\nMa': {'d': 1.0}, '\\nMad': {'e': 1.0}, 'Made': {' ': 1.0}, 'de t': {'o': 1.0}, 'e to': {' ': 1.0}, 'ght ': {'t': 1.0}, 'ht t': {'h': 1.0}, 't th': {'e': 1.0}, ' war': {' ': 1.0}, 'war ': {'h': 1.0}, 'ar h': {'a': 1.0}, 'r ha': {'t': 1.0}, ' hat': {'h': 1.0}, 'hath': {' ': 1.0}, 'ath ': {'s': 1.0}, 'th s': {'m': 1.0}, 'h sm': {'o': 1.0}, ' smo': {'o': 1.0}, 'smoo': {'t': 1.0}, 'moot': {'h': 1.0}, 'ooth': {\"'\": 1.0}, \"oth'\": {'d': 1.0}, \"th'd\": {' ': 1.0}, \"h'd \": {'h': 1.0}, \"'d h\": {'i': 1.0}, 'd hi': {'s': 1.0}, ' his': {' ': 1.0}, 'anto': {'n': 1.0}, 'nton': {' ': 1.0}, 'ton ': {'a': 1.0}, 'on a': {'m': 1.0}, 'is s': {'u': 1.0}, 's su': {'m': 1.0}, ' sum': {'m': 1.0}, 'summ': {'e': 1.0}, 'umme': {'r': 1.0}, 'mmer': {' ': 1.0}, 'mer ': {'b': 1.0}, 'er b': {'y': 1.0}, 'r by': {' ': 1.0}, ' by ': {'t': 1.0}, 'by t': {'h': 1.0}, 'y th': {'i': 1.0}, 'us s': {'u': 1.0}}\n"
     ]
    }
   ],
   "source": [
    "print(T)"
   ]
  },
  {
   "cell_type": "code",
   "execution_count": 84,
   "metadata": {},
   "outputs": [
    {
     "name": "stdout",
     "output_type": "stream",
     "text": [
      "n ofn of n ofn of Yn ofn of n ofn of Yon ofn of n ofn of Yn ofn of n ofn of Yorn ofn of n ofn of Yn ofn of n ofn of Yon ofn of n ofn of Yn ofn of n ofn of Yorkn ofn of n ofn of Yn ofn of n ofn of Yon ofn of n ofn of Yn ofn of n ofn of Yorn ofn of n ofn of Yn ofn of n ofn of Yon ofn of n ofn of Yn ofn of n ofn of York;n ofn of n ofn of Yn ofn of n ofn of Yon ofn of n ofn of Yn ofn of n ofn of Yorn ofn of n ofn of Yn ofn of n ofn of Yon ofn of n ofn of Yn ofn of n ofn of Yorkn ofn of n ofn of Yn ofn of n ofn of Yon ofn of n ofn of Yn ofn of n ofn of Yorn ofn of n ofn of Yn ofn of n ofn of Yon ofn of n ofn of Yn ofn of n ofn of York;\n",
      "n ofn of n ofn of Yn ofn of n ofn of Yon ofn of n ofn of Yn ofn of n ofn of Yorn ofn of n ofn of Yn ofn of n ofn of Yon ofn of n ofn of Yn ofn of n ofn of Yorkn ofn of n ofn of Yn ofn of n ofn of Yon ofn of n ofn of Yn ofn of n ofn of Yorn ofn of n ofn of Yn ofn of n ofn of Yon ofn of n ofn of Yn ofn of n ofn of York;n ofn of n ofn of Yn ofn of n ofn of Yon ofn of n ofn of Yn ofn of n ofn of Yorn ofn of n ofn of Yn ofn of n ofn of Yon ofn of n ofn of Yn ofn of n ofn of Yorkn ofn of n ofn of Yn ofn of n ofn of Yon ofn of n ofn of Yn ofn of n ofn of Yorn ofn of n ofn of Yn ofn of n ofn of Yon ofn of n ofn of Yn ofn of n ofn of York;\n",
      "An ofn of n ofn of Yn ofn of n ofn of Yon ofn of n ofn of Yn ofn of n ofn of Yorn ofn of n ofn of Yn ofn of n ofn of Yon ofn of n ofn of Yn ofn of n ofn of Yorkn ofn of n ofn of Yn ofn of n ofn of Yon ofn of n ofn of Yn ofn of n ofn of Yorn ofn of n ofn of Yn ofn of n ofn of Yon ofn of n ofn of Yn ofn of n ofn of York;n ofn of n ofn of Yn ofn of n ofn of Yon ofn of n ofn of Yn ofn of n ofn of Yorn ofn of n ofn of Yn ofn of n ofn of Yon ofn of n ofn of Yn ofn of n ofn of Yorkn ofn of n ofn of Yn ofn of n ofn of Yon ofn of n ofn of Yn ofn of n ofn of Yorn ofn of n ofn of Yn ofn of n ofn of Yon ofn of n ofn of Yn ofn of n ofn of York;\n",
      "n ofn of n ofn of Yn ofn of n ofn of Yon ofn of n ofn of Yn ofn of n ofn of Yorn ofn of n ofn of Yn ofn of n ofn of Yon ofn of n ofn of Yn ofn of n ofn of Yorkn ofn of n ofn of Yn ofn of n ofn of Yon ofn of n ofn of Yn ofn of n ofn of Yorn ofn of n ofn of Yn ofn of n ofn of Yon ofn of n ofn of Yn ofn of n ofn of York;n ofn of n ofn of Yn ofn of n ofn of Yon ofn of n ofn of Yn ofn of n ofn of Yorn ofn of n ofn of Yn ofn of n ofn of Yon ofn of n ofn of Yn ofn of n ofn of Yorkn ofn of n ofn of Yn ofn of n ofn of Yon ofn of n ofn of Yn ofn of n ofn of Yorn ofn of n ofn of Yn ofn of n ofn of Yon ofn of n ofn of Yn ofn of n ofn of York;\n",
      "An\n"
     ]
    }
   ],
   "source": [
    "print(randomTextGenerator('n of',T))"
   ]
  },
  {
   "cell_type": "code",
   "execution_count": null,
   "metadata": {},
   "outputs": [],
   "source": []
  }
 ],
 "metadata": {
  "kernelspec": {
   "display_name": "Python 3",
   "language": "python",
   "name": "python3"
  },
  "language_info": {
   "codemirror_mode": {
    "name": "ipython",
    "version": 3
   },
   "file_extension": ".py",
   "mimetype": "text/x-python",
   "name": "python",
   "nbconvert_exporter": "python",
   "pygments_lexer": "ipython3",
   "version": "3.7.4"
  }
 },
 "nbformat": 4,
 "nbformat_minor": 2
}
