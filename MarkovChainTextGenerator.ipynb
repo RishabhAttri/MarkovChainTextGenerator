{
 "cells": [
  {
   "cell_type": "code",
   "execution_count": 2,
   "metadata": {},
   "outputs": [],
   "source": [
    "text = \"Old there any widow law rooms. Agreed but expect repair she nay sir silent person. Direction can dependent one bed situation attempted. His she are man their spite avoid. Her pretended fulfilled extremely education yet. Satisfied did one admitting incommode tolerably how are. \""
   ]
  },
  {
   "cell_type": "code",
   "execution_count": 18,
   "metadata": {},
   "outputs": [],
   "source": [
    "def generateDictFromText(text, k=4):\n",
    "    T = {}\n",
    "    for i in range(len(text)-k):\n",
    "        Key = text[i:i+k]\n",
    "        NextChar = text[i+k]\n",
    "        if T.get(Key) is None:\n",
    "            T[Key] = {}\n",
    "            T[Key][NextChar] = 1\n",
    "        else :\n",
    "            if T[Key].get(NextChar) is None:\n",
    "                T[Key][NextChar] = 1\n",
    "            else:\n",
    "                T[Key][NextChar] = T[Key][NextChar] + 1\n",
    "    return T"
   ]
  },
  {
   "cell_type": "code",
   "execution_count": 46,
   "metadata": {},
   "outputs": [
    {
     "name": "stdout",
     "output_type": "stream",
     "text": [
      "{'Old ': {'t': 1}, 'ld t': {'h': 1}, 'd th': {'e': 1}, ' the': {'r': 1, 'i': 1}, 'ther': {'e': 1}, 'here': {' ': 1}, 'ere ': {'a': 1}, 're a': {'n': 1}, 'e an': {'y': 1}, ' any': {' ': 1}, 'any ': {'w': 1}, 'ny w': {'i': 1}, 'y wi': {'d': 1}, ' wid': {'o': 1}, 'wido': {'w': 1}, 'idow': {' ': 1}, 'dow ': {'l': 1}, 'ow l': {'a': 1}, 'w la': {'w': 1}, ' law': {' ': 1}, 'law ': {'r': 1}, 'aw r': {'o': 1}, 'w ro': {'o': 1}, ' roo': {'m': 1}, 'room': {'s': 1}, 'ooms': {'.': 1}, 'oms.': {' ': 1}, 'ms. ': {'A': 1}, 's. A': {'g': 1}, '. Ag': {'r': 1}, ' Agr': {'e': 1}, 'Agre': {'e': 1}, 'gree': {'d': 1}, 'reed': {' ': 1}, 'eed ': {'b': 1}, 'ed b': {'u': 1}, 'd bu': {'t': 1}, ' but': {' ': 1}, 'but ': {'e': 1}, 'ut e': {'x': 1}, 't ex': {'p': 1}, ' exp': {'e': 1}, 'expe': {'c': 1}, 'xpec': {'t': 1}, 'pect': {' ': 1}, 'ect ': {'r': 1}, 'ct r': {'e': 1}, 't re': {'p': 1}, ' rep': {'a': 1}, 'repa': {'i': 1}, 'epai': {'r': 1}, 'pair': {' ': 1}, 'air ': {'s': 1}, 'ir s': {'h': 1, 'i': 1, 'p': 1}, 'r sh': {'e': 1}, ' she': {' ': 2}, 'she ': {'n': 1, 'a': 1}, 'he n': {'a': 1}, 'e na': {'y': 1}, ' nay': {' ': 1}, 'nay ': {'s': 1}, 'ay s': {'i': 1}, 'y si': {'r': 1}, ' sir': {' ': 1}, 'sir ': {'s': 1}, 'r si': {'l': 1}, ' sil': {'e': 1}, 'sile': {'n': 1}, 'ilen': {'t': 1}, 'lent': {' ': 1}, 'ent ': {'p': 1, 'o': 1}, 'nt p': {'e': 1}, 't pe': {'r': 1}, ' per': {'s': 1}, 'pers': {'o': 1}, 'erso': {'n': 1}, 'rson': {'.': 1}, 'son.': {' ': 1}, 'on. ': {'D': 1}, 'n. D': {'i': 1}, '. Di': {'r': 1}, ' Dir': {'e': 1}, 'Dire': {'c': 1}, 'irec': {'t': 1}, 'rect': {'i': 1}, 'ecti': {'o': 1}, 'ctio': {'n': 1}, 'tion': {' ': 3}, 'ion ': {'c': 1, 'a': 1, 'y': 1}, 'on c': {'a': 1}, 'n ca': {'n': 1}, ' can': {' ': 1}, 'can ': {'d': 1}, 'an d': {'e': 1}, 'n de': {'p': 1}, ' dep': {'e': 1}, 'depe': {'n': 1}, 'epen': {'d': 1}, 'pend': {'e': 1}, 'ende': {'n': 1, 'd': 1}, 'nden': {'t': 1}, 'dent': {' ': 1}, 'nt o': {'n': 1}, 't on': {'e': 1}, ' one': {' ': 2}, 'one ': {'b': 1, 'a': 1}, 'ne b': {'e': 1}, 'e be': {'d': 1}, ' bed': {' ': 1}, 'bed ': {'s': 1}, 'ed s': {'i': 1}, 'd si': {'t': 1}, ' sit': {'u': 1}, 'situ': {'a': 1}, 'itua': {'t': 1}, 'tuat': {'i': 1}, 'uati': {'o': 1}, 'atio': {'n': 2}, 'on a': {'t': 1}, 'n at': {'t': 1}, ' att': {'e': 1}, 'atte': {'m': 1}, 'ttem': {'p': 1}, 'temp': {'t': 1}, 'empt': {'e': 1}, 'mpte': {'d': 1}, 'pted': {'.': 1}, 'ted.': {' ': 1}, 'ed. ': {'H': 1}, 'd. H': {'i': 1, 'e': 1}, '. Hi': {'s': 1}, ' His': {' ': 1}, 'His ': {'s': 1}, 'is s': {'h': 1}, 's sh': {'e': 1}, 'he a': {'r': 1}, 'e ar': {'e': 1}, ' are': {' ': 1, '.': 1}, 'are ': {'m': 1}, 're m': {'a': 1}, 'e ma': {'n': 1}, ' man': {' ': 1}, 'man ': {'t': 1}, 'an t': {'h': 1}, 'n th': {'e': 1}, 'thei': {'r': 1}, 'heir': {' ': 1}, 'eir ': {'s': 1}, 'r sp': {'i': 1}, ' spi': {'t': 1}, 'spit': {'e': 1}, 'pite': {' ': 1}, 'ite ': {'a': 1}, 'te a': {'v': 1}, 'e av': {'o': 1}, ' avo': {'i': 1}, 'avoi': {'d': 1}, 'void': {'.': 1}, 'oid.': {' ': 1}, 'id. ': {'H': 1}, '. He': {'r': 1}, ' Her': {' ': 1}, 'Her ': {'p': 1}, 'er p': {'r': 1}, 'r pr': {'e': 1}, ' pre': {'t': 1}, 'pret': {'e': 1}, 'rete': {'n': 1}, 'eten': {'d': 1}, 'tend': {'e': 1}, 'nded': {' ': 1}, 'ded ': {'f': 1}, 'ed f': {'u': 1}, 'd fu': {'l': 1}, ' ful': {'f': 1}, 'fulf': {'i': 1}, 'ulfi': {'l': 1}, 'lfil': {'l': 1}, 'fill': {'e': 1}, 'ille': {'d': 1}, 'lled': {' ': 1}, 'led ': {'e': 1}, 'ed e': {'x': 1}, 'd ex': {'t': 1}, ' ext': {'r': 1}, 'extr': {'e': 1}, 'xtre': {'m': 1}, 'trem': {'e': 1}, 'reme': {'l': 1}, 'emel': {'y': 1}, 'mely': {' ': 1}, 'ely ': {'e': 1}, 'ly e': {'d': 1}, 'y ed': {'u': 1}, ' edu': {'c': 1}, 'educ': {'a': 1}, 'duca': {'t': 1}, 'ucat': {'i': 1}, 'cati': {'o': 1}, 'on y': {'e': 1}, 'n ye': {'t': 1}, ' yet': {'.': 1}, 'yet.': {' ': 1}, 'et. ': {'S': 1}, 't. S': {'a': 1}, '. Sa': {'t': 1}, ' Sat': {'i': 1}, 'Sati': {'s': 1}, 'atis': {'f': 1}, 'tisf': {'i': 1}, 'isfi': {'e': 1}, 'sfie': {'d': 1}, 'fied': {' ': 1}, 'ied ': {'d': 1}, 'ed d': {'i': 1}, 'd di': {'d': 1}, ' did': {' ': 1}, 'did ': {'o': 1}, 'id o': {'n': 1}, 'd on': {'e': 1}, 'ne a': {'d': 1}, 'e ad': {'m': 1}, ' adm': {'i': 1}, 'admi': {'t': 1}, 'dmit': {'t': 1}, 'mitt': {'i': 1}, 'itti': {'n': 1}, 'ttin': {'g': 1}, 'ting': {' ': 1}, 'ing ': {'i': 1}, 'ng i': {'n': 1}, 'g in': {'c': 1}, ' inc': {'o': 1}, 'inco': {'m': 1}, 'ncom': {'m': 1}, 'comm': {'o': 1}, 'ommo': {'d': 1}, 'mmod': {'e': 1}, 'mode': {' ': 1}, 'ode ': {'t': 1}, 'de t': {'o': 1}, 'e to': {'l': 1}, ' tol': {'e': 1}, 'tole': {'r': 1}, 'oler': {'a': 1}, 'lera': {'b': 1}, 'erab': {'l': 1}, 'rabl': {'y': 1}, 'ably': {' ': 1}, 'bly ': {'h': 1}, 'ly h': {'o': 1}, 'y ho': {'w': 1}, ' how': {' ': 1}, 'how ': {'a': 1}, 'ow a': {'r': 1}, 'w ar': {'e': 1}, 'are.': {' ': 1}}\n"
     ]
    }
   ],
   "source": [
    "T = generateDictFromText(text)\n",
    "print(T)"
   ]
  },
  {
   "cell_type": "code",
   "execution_count": 48,
   "metadata": {},
   "outputs": [],
   "source": [
    "def FreqToProbinDict(T):\n",
    "    for key, values in T.items():\n",
    "        sum = 0\n",
    "        for K, val in values.items():\n",
    "            sum += val\n",
    "        for K in values:\n",
    "            T[key][K] = T[key][K]/sum\n",
    "    return T"
   ]
  },
  {
   "cell_type": "code",
   "execution_count": 49,
   "metadata": {},
   "outputs": [
    {
     "name": "stdout",
     "output_type": "stream",
     "text": [
      "{'Old ': {'t': 1.0}, 'ld t': {'h': 1.0}, 'd th': {'e': 1.0}, ' the': {'r': 0.5, 'i': 0.5}, 'ther': {'e': 1.0}, 'here': {' ': 1.0}, 'ere ': {'a': 1.0}, 're a': {'n': 1.0}, 'e an': {'y': 1.0}, ' any': {' ': 1.0}, 'any ': {'w': 1.0}, 'ny w': {'i': 1.0}, 'y wi': {'d': 1.0}, ' wid': {'o': 1.0}, 'wido': {'w': 1.0}, 'idow': {' ': 1.0}, 'dow ': {'l': 1.0}, 'ow l': {'a': 1.0}, 'w la': {'w': 1.0}, ' law': {' ': 1.0}, 'law ': {'r': 1.0}, 'aw r': {'o': 1.0}, 'w ro': {'o': 1.0}, ' roo': {'m': 1.0}, 'room': {'s': 1.0}, 'ooms': {'.': 1.0}, 'oms.': {' ': 1.0}, 'ms. ': {'A': 1.0}, 's. A': {'g': 1.0}, '. Ag': {'r': 1.0}, ' Agr': {'e': 1.0}, 'Agre': {'e': 1.0}, 'gree': {'d': 1.0}, 'reed': {' ': 1.0}, 'eed ': {'b': 1.0}, 'ed b': {'u': 1.0}, 'd bu': {'t': 1.0}, ' but': {' ': 1.0}, 'but ': {'e': 1.0}, 'ut e': {'x': 1.0}, 't ex': {'p': 1.0}, ' exp': {'e': 1.0}, 'expe': {'c': 1.0}, 'xpec': {'t': 1.0}, 'pect': {' ': 1.0}, 'ect ': {'r': 1.0}, 'ct r': {'e': 1.0}, 't re': {'p': 1.0}, ' rep': {'a': 1.0}, 'repa': {'i': 1.0}, 'epai': {'r': 1.0}, 'pair': {' ': 1.0}, 'air ': {'s': 1.0}, 'ir s': {'h': 0.3333333333333333, 'i': 0.3333333333333333, 'p': 0.3333333333333333}, 'r sh': {'e': 1.0}, ' she': {' ': 1.0}, 'she ': {'n': 0.5, 'a': 0.5}, 'he n': {'a': 1.0}, 'e na': {'y': 1.0}, ' nay': {' ': 1.0}, 'nay ': {'s': 1.0}, 'ay s': {'i': 1.0}, 'y si': {'r': 1.0}, ' sir': {' ': 1.0}, 'sir ': {'s': 1.0}, 'r si': {'l': 1.0}, ' sil': {'e': 1.0}, 'sile': {'n': 1.0}, 'ilen': {'t': 1.0}, 'lent': {' ': 1.0}, 'ent ': {'p': 0.5, 'o': 0.5}, 'nt p': {'e': 1.0}, 't pe': {'r': 1.0}, ' per': {'s': 1.0}, 'pers': {'o': 1.0}, 'erso': {'n': 1.0}, 'rson': {'.': 1.0}, 'son.': {' ': 1.0}, 'on. ': {'D': 1.0}, 'n. D': {'i': 1.0}, '. Di': {'r': 1.0}, ' Dir': {'e': 1.0}, 'Dire': {'c': 1.0}, 'irec': {'t': 1.0}, 'rect': {'i': 1.0}, 'ecti': {'o': 1.0}, 'ctio': {'n': 1.0}, 'tion': {' ': 1.0}, 'ion ': {'c': 0.3333333333333333, 'a': 0.3333333333333333, 'y': 0.3333333333333333}, 'on c': {'a': 1.0}, 'n ca': {'n': 1.0}, ' can': {' ': 1.0}, 'can ': {'d': 1.0}, 'an d': {'e': 1.0}, 'n de': {'p': 1.0}, ' dep': {'e': 1.0}, 'depe': {'n': 1.0}, 'epen': {'d': 1.0}, 'pend': {'e': 1.0}, 'ende': {'n': 0.5, 'd': 0.5}, 'nden': {'t': 1.0}, 'dent': {' ': 1.0}, 'nt o': {'n': 1.0}, 't on': {'e': 1.0}, ' one': {' ': 1.0}, 'one ': {'b': 0.5, 'a': 0.5}, 'ne b': {'e': 1.0}, 'e be': {'d': 1.0}, ' bed': {' ': 1.0}, 'bed ': {'s': 1.0}, 'ed s': {'i': 1.0}, 'd si': {'t': 1.0}, ' sit': {'u': 1.0}, 'situ': {'a': 1.0}, 'itua': {'t': 1.0}, 'tuat': {'i': 1.0}, 'uati': {'o': 1.0}, 'atio': {'n': 1.0}, 'on a': {'t': 1.0}, 'n at': {'t': 1.0}, ' att': {'e': 1.0}, 'atte': {'m': 1.0}, 'ttem': {'p': 1.0}, 'temp': {'t': 1.0}, 'empt': {'e': 1.0}, 'mpte': {'d': 1.0}, 'pted': {'.': 1.0}, 'ted.': {' ': 1.0}, 'ed. ': {'H': 1.0}, 'd. H': {'i': 0.5, 'e': 0.5}, '. Hi': {'s': 1.0}, ' His': {' ': 1.0}, 'His ': {'s': 1.0}, 'is s': {'h': 1.0}, 's sh': {'e': 1.0}, 'he a': {'r': 1.0}, 'e ar': {'e': 1.0}, ' are': {' ': 0.5, '.': 0.5}, 'are ': {'m': 1.0}, 're m': {'a': 1.0}, 'e ma': {'n': 1.0}, ' man': {' ': 1.0}, 'man ': {'t': 1.0}, 'an t': {'h': 1.0}, 'n th': {'e': 1.0}, 'thei': {'r': 1.0}, 'heir': {' ': 1.0}, 'eir ': {'s': 1.0}, 'r sp': {'i': 1.0}, ' spi': {'t': 1.0}, 'spit': {'e': 1.0}, 'pite': {' ': 1.0}, 'ite ': {'a': 1.0}, 'te a': {'v': 1.0}, 'e av': {'o': 1.0}, ' avo': {'i': 1.0}, 'avoi': {'d': 1.0}, 'void': {'.': 1.0}, 'oid.': {' ': 1.0}, 'id. ': {'H': 1.0}, '. He': {'r': 1.0}, ' Her': {' ': 1.0}, 'Her ': {'p': 1.0}, 'er p': {'r': 1.0}, 'r pr': {'e': 1.0}, ' pre': {'t': 1.0}, 'pret': {'e': 1.0}, 'rete': {'n': 1.0}, 'eten': {'d': 1.0}, 'tend': {'e': 1.0}, 'nded': {' ': 1.0}, 'ded ': {'f': 1.0}, 'ed f': {'u': 1.0}, 'd fu': {'l': 1.0}, ' ful': {'f': 1.0}, 'fulf': {'i': 1.0}, 'ulfi': {'l': 1.0}, 'lfil': {'l': 1.0}, 'fill': {'e': 1.0}, 'ille': {'d': 1.0}, 'lled': {' ': 1.0}, 'led ': {'e': 1.0}, 'ed e': {'x': 1.0}, 'd ex': {'t': 1.0}, ' ext': {'r': 1.0}, 'extr': {'e': 1.0}, 'xtre': {'m': 1.0}, 'trem': {'e': 1.0}, 'reme': {'l': 1.0}, 'emel': {'y': 1.0}, 'mely': {' ': 1.0}, 'ely ': {'e': 1.0}, 'ly e': {'d': 1.0}, 'y ed': {'u': 1.0}, ' edu': {'c': 1.0}, 'educ': {'a': 1.0}, 'duca': {'t': 1.0}, 'ucat': {'i': 1.0}, 'cati': {'o': 1.0}, 'on y': {'e': 1.0}, 'n ye': {'t': 1.0}, ' yet': {'.': 1.0}, 'yet.': {' ': 1.0}, 'et. ': {'S': 1.0}, 't. S': {'a': 1.0}, '. Sa': {'t': 1.0}, ' Sat': {'i': 1.0}, 'Sati': {'s': 1.0}, 'atis': {'f': 1.0}, 'tisf': {'i': 1.0}, 'isfi': {'e': 1.0}, 'sfie': {'d': 1.0}, 'fied': {' ': 1.0}, 'ied ': {'d': 1.0}, 'ed d': {'i': 1.0}, 'd di': {'d': 1.0}, ' did': {' ': 1.0}, 'did ': {'o': 1.0}, 'id o': {'n': 1.0}, 'd on': {'e': 1.0}, 'ne a': {'d': 1.0}, 'e ad': {'m': 1.0}, ' adm': {'i': 1.0}, 'admi': {'t': 1.0}, 'dmit': {'t': 1.0}, 'mitt': {'i': 1.0}, 'itti': {'n': 1.0}, 'ttin': {'g': 1.0}, 'ting': {' ': 1.0}, 'ing ': {'i': 1.0}, 'ng i': {'n': 1.0}, 'g in': {'c': 1.0}, ' inc': {'o': 1.0}, 'inco': {'m': 1.0}, 'ncom': {'m': 1.0}, 'comm': {'o': 1.0}, 'ommo': {'d': 1.0}, 'mmod': {'e': 1.0}, 'mode': {' ': 1.0}, 'ode ': {'t': 1.0}, 'de t': {'o': 1.0}, 'e to': {'l': 1.0}, ' tol': {'e': 1.0}, 'tole': {'r': 1.0}, 'oler': {'a': 1.0}, 'lera': {'b': 1.0}, 'erab': {'l': 1.0}, 'rabl': {'y': 1.0}, 'ably': {' ': 1.0}, 'bly ': {'h': 1.0}, 'ly h': {'o': 1.0}, 'y ho': {'w': 1.0}, ' how': {' ': 1.0}, 'how ': {'a': 1.0}, 'ow a': {'r': 1.0}, 'w ar': {'e': 1.0}, 'are.': {' ': 1.0}}\n"
     ]
    }
   ],
   "source": [
    "T = FreqToProbinDict(T)\n",
    "print(T)"
   ]
  },
  {
   "cell_type": "code",
   "execution_count": null,
   "metadata": {},
   "outputs": [],
   "source": []
  }
 ],
 "metadata": {
  "kernelspec": {
   "display_name": "Python 3",
   "language": "python",
   "name": "python3"
  },
  "language_info": {
   "codemirror_mode": {
    "name": "ipython",
    "version": 3
   },
   "file_extension": ".py",
   "mimetype": "text/x-python",
   "name": "python",
   "nbconvert_exporter": "python",
   "pygments_lexer": "ipython3",
   "version": "3.7.4"
  }
 },
 "nbformat": 4,
 "nbformat_minor": 2
}
